{
 "cells": [
  {
   "cell_type": "code",
   "execution_count": 1,
   "id": "constitutional-scholarship",
   "metadata": {},
   "outputs": [],
   "source": [
    "import pandas as pd\n",
    "import numpy as np"
   ]
  },
  {
   "cell_type": "code",
   "execution_count": 2,
   "id": "accepting-landscape",
   "metadata": {},
   "outputs": [],
   "source": [
    "train = pd.read_csv('train.csv')"
   ]
  },
  {
   "cell_type": "code",
   "execution_count": 3,
   "id": "alternative-protest",
   "metadata": {},
   "outputs": [
    {
     "name": "stdout",
     "output_type": "stream",
     "text": [
      "<class 'pandas.core.frame.DataFrame'>\n",
      "RangeIndex: 32950 entries, 0 to 32949\n",
      "Data columns (total 21 columns):\n",
      " #   Column          Non-Null Count  Dtype  \n",
      "---  ------          --------------  -----  \n",
      " 0   age             32950 non-null  int64  \n",
      " 1   job             32950 non-null  object \n",
      " 2   marital         32950 non-null  object \n",
      " 3   education       32950 non-null  object \n",
      " 4   default         32950 non-null  object \n",
      " 5   housing         32950 non-null  object \n",
      " 6   loan            32950 non-null  object \n",
      " 7   contact         32950 non-null  object \n",
      " 8   month           32950 non-null  object \n",
      " 9   day_of_week     32950 non-null  object \n",
      " 10  duration        32950 non-null  int64  \n",
      " 11  campaign        32950 non-null  int64  \n",
      " 12  pdays           32950 non-null  int64  \n",
      " 13  previous        32950 non-null  int64  \n",
      " 14  poutcome        32950 non-null  object \n",
      " 15  emp.var.rate    32950 non-null  float64\n",
      " 16  cons.price.idx  32950 non-null  float64\n",
      " 17  cons.conf.idx   32950 non-null  float64\n",
      " 18  euribor3m       32950 non-null  float64\n",
      " 19  nr.employed     32950 non-null  float64\n",
      " 20  y               32950 non-null  object \n",
      "dtypes: float64(5), int64(5), object(11)\n",
      "memory usage: 5.3+ MB\n"
     ]
    }
   ],
   "source": [
    "train.info()"
   ]
  },
  {
   "cell_type": "code",
   "execution_count": 4,
   "id": "egyptian-category",
   "metadata": {},
   "outputs": [],
   "source": [
    "test = pd.read_csv('test.csv')"
   ]
  },
  {
   "cell_type": "code",
   "execution_count": 5,
   "id": "ethical-bennett",
   "metadata": {},
   "outputs": [],
   "source": [
    "target = train.y\n",
    "test_target = test.y\n",
    "inputs = train.drop('y',axis='columns')\n",
    "test_inputs = test.drop('y',axis = 'columns')"
   ]
  },
  {
   "cell_type": "markdown",
   "id": "figured-graph",
   "metadata": {},
   "source": [
    "checking for null values"
   ]
  },
  {
   "cell_type": "code",
   "execution_count": 6,
   "id": "balanced-sheriff",
   "metadata": {},
   "outputs": [
    {
     "data": {
      "text/plain": [
       "False"
      ]
     },
     "execution_count": 6,
     "metadata": {},
     "output_type": "execute_result"
    }
   ],
   "source": [
    "target.isnull().values.any()"
   ]
  },
  {
   "cell_type": "code",
   "execution_count": 7,
   "id": "written-guinea",
   "metadata": {},
   "outputs": [],
   "source": [
    "new_target = target.map({'yes':1,'no':0})\n",
    "Test_target = test_target.map({'yes':1,'no':0})"
   ]
  },
  {
   "cell_type": "code",
   "execution_count": 8,
   "id": "changing-bangladesh",
   "metadata": {},
   "outputs": [
    {
     "data": {
      "text/plain": [
       "array(['high.school', 'university.degree', 'basic.9y',\n",
       "       'professional.course', 'basic.4y', 'basic.6y', 'unknown',\n",
       "       'illiterate'], dtype=object)"
      ]
     },
     "execution_count": 8,
     "metadata": {},
     "output_type": "execute_result"
    }
   ],
   "source": [
    "inputs.job.unique()\n",
    "inputs.education.unique()"
   ]
  },
  {
   "cell_type": "markdown",
   "id": "published-integer",
   "metadata": {},
   "source": [
    "checking whether there are any **NaN** values"
   ]
  },
  {
   "cell_type": "code",
   "execution_count": 9,
   "id": "removed-smart",
   "metadata": {},
   "outputs": [
    {
     "data": {
      "text/plain": [
       "Index([], dtype='object')"
      ]
     },
     "execution_count": 9,
     "metadata": {},
     "output_type": "execute_result"
    }
   ],
   "source": [
    "inputs.columns[inputs.isna().any()];\n",
    "test_inputs.columns[test_inputs.isna().any()]"
   ]
  },
  {
   "cell_type": "code",
   "execution_count": 10,
   "id": "stainless-boards",
   "metadata": {},
   "outputs": [
    {
     "data": {
      "text/plain": [
       "array([ True,  True,  True,  True,  True,  True,  True,  True,  True,\n",
       "        True,  True,  True,  True,  True,  True,  True,  True,  True,\n",
       "        True,  True])"
      ]
     },
     "execution_count": 10,
     "metadata": {},
     "output_type": "execute_result"
    }
   ],
   "source": [
    "inputs.columns == test_inputs.columns"
   ]
  },
  {
   "cell_type": "code",
   "execution_count": 11,
   "id": "attended-representative",
   "metadata": {},
   "outputs": [],
   "source": [
    "from sklearn.preprocessing import LabelEncoder"
   ]
  },
  {
   "cell_type": "code",
   "execution_count": 12,
   "id": "roman-carry",
   "metadata": {},
   "outputs": [],
   "source": [
    "scorer = {}"
   ]
  },
  {
   "cell_type": "code",
   "execution_count": 13,
   "id": "thorough-gasoline",
   "metadata": {},
   "outputs": [],
   "source": [
    "for i in inputs.columns:\n",
    "    if inputs[i].dtypes == 'object':\n",
    "        temp_var = i+\"_le\"\n",
    "        temp_labelencoder = LabelEncoder()\n",
    "        inputs[temp_var] = temp_labelencoder.fit_transform(inputs[i])\n",
    "        scorer[i] = list(temp_labelencoder.classes_)\n",
    "        test_inputs[temp_var] = temp_labelencoder.fit_transform(test_inputs[i])"
   ]
  },
  {
   "cell_type": "code",
   "execution_count": 15,
   "id": "addressed-language",
   "metadata": {
    "scrolled": true
   },
   "outputs": [],
   "source": [
    "scorer;"
   ]
  },
  {
   "cell_type": "code",
   "execution_count": 16,
   "id": "friendly-sugar",
   "metadata": {},
   "outputs": [],
   "source": [
    "import json\n",
    "with open(\"scorer.json\",'w') as fp:\n",
    "    json.dump(scorer, fp)"
   ]
  },
  {
   "cell_type": "code",
   "execution_count": 17,
   "id": "novel-penguin",
   "metadata": {},
   "outputs": [
    {
     "data": {
      "text/html": [
       "<div>\n",
       "<style scoped>\n",
       "    .dataframe tbody tr th:only-of-type {\n",
       "        vertical-align: middle;\n",
       "    }\n",
       "\n",
       "    .dataframe tbody tr th {\n",
       "        vertical-align: top;\n",
       "    }\n",
       "\n",
       "    .dataframe thead th {\n",
       "        text-align: right;\n",
       "    }\n",
       "</style>\n",
       "<table border=\"1\" class=\"dataframe\">\n",
       "  <thead>\n",
       "    <tr style=\"text-align: right;\">\n",
       "      <th></th>\n",
       "      <th>age</th>\n",
       "      <th>duration</th>\n",
       "      <th>campaign</th>\n",
       "      <th>pdays</th>\n",
       "      <th>previous</th>\n",
       "      <th>emp.var.rate</th>\n",
       "      <th>cons.price.idx</th>\n",
       "      <th>cons.conf.idx</th>\n",
       "      <th>euribor3m</th>\n",
       "      <th>nr.employed</th>\n",
       "      <th>job_le</th>\n",
       "      <th>marital_le</th>\n",
       "      <th>education_le</th>\n",
       "      <th>default_le</th>\n",
       "      <th>housing_le</th>\n",
       "      <th>loan_le</th>\n",
       "      <th>contact_le</th>\n",
       "      <th>month_le</th>\n",
       "      <th>day_of_week_le</th>\n",
       "      <th>poutcome_le</th>\n",
       "    </tr>\n",
       "  </thead>\n",
       "  <tbody>\n",
       "    <tr>\n",
       "      <th>0</th>\n",
       "      <td>61</td>\n",
       "      <td>268</td>\n",
       "      <td>3</td>\n",
       "      <td>999</td>\n",
       "      <td>0</td>\n",
       "      <td>-1.8</td>\n",
       "      <td>92.893</td>\n",
       "      <td>-46.2</td>\n",
       "      <td>1.354</td>\n",
       "      <td>5099.1</td>\n",
       "      <td>9</td>\n",
       "      <td>0</td>\n",
       "      <td>5</td>\n",
       "      <td>0</td>\n",
       "      <td>2</td>\n",
       "      <td>0</td>\n",
       "      <td>0</td>\n",
       "      <td>6</td>\n",
       "      <td>1</td>\n",
       "      <td>1</td>\n",
       "    </tr>\n",
       "    <tr>\n",
       "      <th>1</th>\n",
       "      <td>58</td>\n",
       "      <td>75</td>\n",
       "      <td>7</td>\n",
       "      <td>999</td>\n",
       "      <td>0</td>\n",
       "      <td>1.4</td>\n",
       "      <td>93.444</td>\n",
       "      <td>-36.1</td>\n",
       "      <td>4.964</td>\n",
       "      <td>5228.1</td>\n",
       "      <td>9</td>\n",
       "      <td>0</td>\n",
       "      <td>5</td>\n",
       "      <td>0</td>\n",
       "      <td>0</td>\n",
       "      <td>0</td>\n",
       "      <td>0</td>\n",
       "      <td>1</td>\n",
       "      <td>0</td>\n",
       "      <td>1</td>\n",
       "    </tr>\n",
       "    <tr>\n",
       "      <th>2</th>\n",
       "      <td>30</td>\n",
       "      <td>166</td>\n",
       "      <td>1</td>\n",
       "      <td>999</td>\n",
       "      <td>0</td>\n",
       "      <td>1.4</td>\n",
       "      <td>93.918</td>\n",
       "      <td>-42.7</td>\n",
       "      <td>4.962</td>\n",
       "      <td>5228.1</td>\n",
       "      <td>0</td>\n",
       "      <td>1</td>\n",
       "      <td>3</td>\n",
       "      <td>0</td>\n",
       "      <td>2</td>\n",
       "      <td>0</td>\n",
       "      <td>0</td>\n",
       "      <td>3</td>\n",
       "      <td>4</td>\n",
       "      <td>1</td>\n",
       "    </tr>\n",
       "  </tbody>\n",
       "</table>\n",
       "</div>"
      ],
      "text/plain": [
       "   age  duration  campaign  pdays  previous  emp.var.rate  cons.price.idx  \\\n",
       "0   61       268         3    999         0          -1.8          92.893   \n",
       "1   58        75         7    999         0           1.4          93.444   \n",
       "2   30       166         1    999         0           1.4          93.918   \n",
       "\n",
       "   cons.conf.idx  euribor3m  nr.employed  job_le  marital_le  education_le  \\\n",
       "0          -46.2      1.354       5099.1       9           0             5   \n",
       "1          -36.1      4.964       5228.1       9           0             5   \n",
       "2          -42.7      4.962       5228.1       0           1             3   \n",
       "\n",
       "   default_le  housing_le  loan_le  contact_le  month_le  day_of_week_le  \\\n",
       "0           0           2        0           0         6               1   \n",
       "1           0           0        0           0         1               0   \n",
       "2           0           2        0           0         3               4   \n",
       "\n",
       "   poutcome_le  \n",
       "0            1  \n",
       "1            1  \n",
       "2            1  "
      ]
     },
     "execution_count": 17,
     "metadata": {},
     "output_type": "execute_result"
    }
   ],
   "source": [
    "new_df = inputs.drop([i for i in inputs.columns if inputs[i].dtypes == 'object'], axis='columns')\n",
    "test_df = test_inputs.drop([i for i in test_inputs.columns if test_inputs[i].dtypes == 'object'], axis='columns')\n",
    "new_df.head(3)\n",
    "test_df.head(3)"
   ]
  },
  {
   "cell_type": "markdown",
   "id": "unknown-subscription",
   "metadata": {},
   "source": [
    "### Training the model"
   ]
  },
  {
   "cell_type": "code",
   "execution_count": 18,
   "id": "interstate-roller",
   "metadata": {},
   "outputs": [],
   "source": [
    "from sklearn.model_selection import train_test_split"
   ]
  },
  {
   "cell_type": "code",
   "execution_count": 19,
   "id": "entertaining-senate",
   "metadata": {},
   "outputs": [],
   "source": [
    "X_train, X_test, Y_train, Y_test = train_test_split(new_df,new_target, test_size = 0.2)"
   ]
  },
  {
   "cell_type": "code",
   "execution_count": 20,
   "id": "english-dutch",
   "metadata": {},
   "outputs": [],
   "source": [
    "from sklearn.naive_bayes import BernoulliNB\n",
    "model = BernoulliNB()"
   ]
  },
  {
   "cell_type": "code",
   "execution_count": 21,
   "id": "reliable-companion",
   "metadata": {},
   "outputs": [
    {
     "data": {
      "text/plain": [
       "BernoulliNB()"
      ]
     },
     "execution_count": 21,
     "metadata": {},
     "output_type": "execute_result"
    }
   ],
   "source": [
    "model.fit(X_train,Y_train)"
   ]
  },
  {
   "cell_type": "code",
   "execution_count": 150,
   "id": "affecting-deputy",
   "metadata": {},
   "outputs": [
    {
     "data": {
      "text/plain": [
       "0.8389984825493172"
      ]
     },
     "execution_count": 150,
     "metadata": {},
     "output_type": "execute_result"
    }
   ],
   "source": [
    "model.score(X_test,Y_test)"
   ]
  },
  {
   "cell_type": "code",
   "execution_count": 167,
   "id": "indoor-straight",
   "metadata": {},
   "outputs": [
    {
     "data": {
      "text/plain": [
       "array([0])"
      ]
     },
     "execution_count": 167,
     "metadata": {},
     "output_type": "execute_result"
    }
   ],
   "source": [
    "model.predict(test_df[0:1])"
   ]
  },
  {
   "cell_type": "markdown",
   "id": "assured-district",
   "metadata": {},
   "source": [
    "### score with the test.csv"
   ]
  },
  {
   "cell_type": "code",
   "execution_count": 174,
   "id": "returning-lesson",
   "metadata": {},
   "outputs": [
    {
     "data": {
      "text/plain": [
       "0.8319980577810148"
      ]
     },
     "execution_count": 174,
     "metadata": {},
     "output_type": "execute_result"
    }
   ],
   "source": [
    "model.score(test_df,Test_target)"
   ]
  },
  {
   "cell_type": "markdown",
   "id": "corresponding-chemical",
   "metadata": {},
   "source": [
    "### Saving the model"
   ]
  },
  {
   "cell_type": "code",
   "execution_count": 19,
   "id": "alleged-phrase",
   "metadata": {},
   "outputs": [],
   "source": [
    "import pickle\n",
    "# pickle.dump(model,open('model','wb'))"
   ]
  }
 ],
 "metadata": {
  "kernelspec": {
   "display_name": "Python 3",
   "language": "python",
   "name": "python3"
  },
  "language_info": {
   "codemirror_mode": {
    "name": "ipython",
    "version": 3
   },
   "file_extension": ".py",
   "mimetype": "text/x-python",
   "name": "python",
   "nbconvert_exporter": "python",
   "pygments_lexer": "ipython3",
   "version": "3.8.5"
  }
 },
 "nbformat": 4,
 "nbformat_minor": 5
}
